{
  "nbformat": 4,
  "nbformat_minor": 0,
  "metadata": {
    "colab": {
      "provenance": [],
      "authorship_tag": "ABX9TyPuyPloNrKEpizgLr69eQZ+",
      "include_colab_link": true
    },
    "kernelspec": {
      "name": "python3",
      "display_name": "Python 3"
    },
    "language_info": {
      "name": "python"
    }
  },
  "cells": [
    {
      "cell_type": "markdown",
      "metadata": {
        "id": "view-in-github",
        "colab_type": "text"
      },
      "source": [
        "<a href=\"https://colab.research.google.com/github/Evgenius87/Data_Science_hw/blob/main/Hw1.ipynb\" target=\"_parent\"><img src=\"https://colab.research.google.com/assets/colab-badge.svg\" alt=\"Open In Colab\"/></a>"
      ]
    },
    {
      "cell_type": "markdown",
      "source": [
        "1 Створіть одновимірний масив (вектор) з першими 10-ма натуральними числами та виведіть його значення."
      ],
      "metadata": {
        "id": "GWS5VXUqxWhN"
      }
    },
    {
      "cell_type": "code",
      "execution_count": 2,
      "metadata": {
        "colab": {
          "base_uri": "https://localhost:8080/"
        },
        "id": "CMcptT_dwaqR",
        "outputId": "050d97f2-53f8-44cc-e6c1-bc237d32b92c"
      },
      "outputs": [
        {
          "output_type": "stream",
          "name": "stdout",
          "text": [
            "[ 1  2  3  4  5  6  7  8  9 10]\n"
          ]
        }
      ],
      "source": [
        "import numpy as np\n",
        "vector = np.arange(1,11)\n",
        "print(vector)"
      ]
    },
    {
      "cell_type": "markdown",
      "source": [
        "#2 Створіть двовимірний масив (матрицю) розміром 3x3, заповніть його нулями та виведіть його значення."
      ],
      "metadata": {
        "id": "GyyJ0kQcxEnG"
      }
    },
    {
      "cell_type": "code",
      "source": [
        "matrix = np.zeros((3, 3), dtype=\"u4\")\n",
        "print(matrix)"
      ],
      "metadata": {
        "colab": {
          "base_uri": "https://localhost:8080/"
        },
        "id": "kcraH1ysyYUH",
        "outputId": "feed1389-9172-4d92-e128-0e2841041ccb"
      },
      "execution_count": null,
      "outputs": [
        {
          "output_type": "stream",
          "name": "stdout",
          "text": [
            "[[0 0 0]\n",
            " [0 0 0]\n",
            " [0 0 0]]\n"
          ]
        }
      ]
    },
    {
      "cell_type": "markdown",
      "source": [
        "#3 Створіть масив розміром 5x5, заповніть його випадковими цілими числами в діапазоні від 1 до 10 та виведіть його значення."
      ],
      "metadata": {
        "id": "xGY6J56WDu6F"
      }
    },
    {
      "cell_type": "code",
      "source": [
        "matrix = np.random.randint(1, 11, size=(5,5), dtype=int)\n",
        "print(matrix)"
      ],
      "metadata": {
        "colab": {
          "base_uri": "https://localhost:8080/"
        },
        "id": "9sUMcqcXD1eI",
        "outputId": "b58a5802-6418-464c-d0bb-5112be615d20"
      },
      "execution_count": null,
      "outputs": [
        {
          "output_type": "stream",
          "name": "stdout",
          "text": [
            "[[10  8  8  8  8]\n",
            " [ 1  3  1  3  1]\n",
            " [ 8  9  5  3  1]\n",
            " [ 4  7  9  7  3]\n",
            " [ 4  5  6  5  8]]\n"
          ]
        }
      ]
    },
    {
      "cell_type": "markdown",
      "source": [
        "#4 Створіть масив розміром 4x4, заповніть його випадковими дійсними числами в діапазоні від 0 до 1 та виведіть його значення."
      ],
      "metadata": {
        "id": "C4tf080cFn2C"
      }
    },
    {
      "cell_type": "code",
      "source": [
        "matrix = np.random.randint(0, 2, size=(4,4), dtype=int)\n",
        "print(matrix)"
      ],
      "metadata": {
        "colab": {
          "base_uri": "https://localhost:8080/"
        },
        "id": "dIXEk8mwFw3G",
        "outputId": "0cdc8a09-23de-4ba7-92fb-24803401fe1f"
      },
      "execution_count": null,
      "outputs": [
        {
          "output_type": "stream",
          "name": "stdout",
          "text": [
            "[[0 0 0 1]\n",
            " [0 0 0 0]\n",
            " [0 1 0 1]\n",
            " [1 1 0 0]]\n"
          ]
        }
      ]
    },
    {
      "cell_type": "markdown",
      "source": [
        "#5 Створіть два одновимірних масиви розміром 5, заповніть їх випадковими цілими числами в діапазоні від 1 до 10 та виконайте на них поелементні операції додавання, віднімання та множення."
      ],
      "metadata": {
        "id": "RzUYG0kcGWV1"
      }
    },
    {
      "cell_type": "code",
      "source": [
        "vector_1 = np.random.randint(1, 11, size=5, dtype=int)\n",
        "vector_2 = np.random.randint(1, 11, size=5, dtype=int)\n",
        "print(f\"vector_1: {vector_1}\")\n",
        "print(f\"vector_2: {vector_2}\")\n",
        "print(f\"addition: \\n{vector_1 + vector_2}\")\n",
        "print(f\"subtraction: \\n{vector_1 - vector_2}\")\n",
        "print(f\"multiplication: \\n{vector_1 * vector_2}\")"
      ],
      "metadata": {
        "colab": {
          "base_uri": "https://localhost:8080/"
        },
        "id": "unHIKOzKGcLk",
        "outputId": "5273eb54-7b84-48b6-a0a7-4a41f113a70e"
      },
      "execution_count": null,
      "outputs": [
        {
          "output_type": "stream",
          "name": "stdout",
          "text": [
            "vector_1: [3 7 3 5 9]\n",
            "vector_2: [8 7 7 2 5]\n",
            "addition: \n",
            "[11 14 10  7 14]\n",
            "subtraction: \n",
            "[-5  0 -4  3  4]\n",
            "multiplication: \n",
            "[24 49 21 10 45]\n"
          ]
        }
      ]
    },
    {
      "cell_type": "markdown",
      "source": [
        "#6 Створіть два вектори розміром 7, заповніть довільними числами та знайдіть їх скалярний добуток."
      ],
      "metadata": {
        "id": "yYulYepoHOQs"
      }
    },
    {
      "cell_type": "code",
      "source": [
        "vector_1 = np.random.randint(1, 11, size=7, dtype=int)\n",
        "vector_2 = np.random.randint(1, 11, size=7, dtype=int)\n",
        "print(f\"vector_1: {vector_1}\")\n",
        "print(f\"vector_2: {vector_2}\")\n",
        "print(f\"scalar product: {np.dot(vector_1, vector_2)}\")"
      ],
      "metadata": {
        "colab": {
          "base_uri": "https://localhost:8080/"
        },
        "id": "qbrEEFzdHTo-",
        "outputId": "2dc4d9d6-5fd8-4674-e47b-68cf97083e8b"
      },
      "execution_count": null,
      "outputs": [
        {
          "output_type": "stream",
          "name": "stdout",
          "text": [
            "vector_1: [6 7 7 2 6 7 8]\n",
            "vector_2: [5 2 8 7 4 7 9]\n",
            "scalar product: 259\n"
          ]
        }
      ]
    },
    {
      "cell_type": "markdown",
      "source": [
        "#7 Створіть дві матриці розміром 2x2 та 2x3, заповніть їх випадковими цілими числами в діапазоні від 1 до 10 та перемножте їх між собою."
      ],
      "metadata": {
        "id": "DzIJWhlaHrRt"
      }
    },
    {
      "cell_type": "code",
      "source": [
        "matrix_1 = np.random.randint(1, 11, size=(2, 2), dtype=int)\n",
        "matrix_2 = np.random.randint(1, 11, size=(2, 3), dtype=int)\n",
        "mult_mtrx = np.dot(matrix_1, matrix_2)\n",
        "print(f\"matrix_1:\\n{matrix_1}\")\n",
        "print(f\"matrix_2:\\n{matrix_2}\")\n",
        "print(f\"multiplied  matrix:\\n{mult_mtrx}\")"
      ],
      "metadata": {
        "colab": {
          "base_uri": "https://localhost:8080/"
        },
        "id": "b0Vzj2UZH3VD",
        "outputId": "990b2f44-8123-4371-d96c-b85cf2efe9b8"
      },
      "execution_count": null,
      "outputs": [
        {
          "output_type": "stream",
          "name": "stdout",
          "text": [
            "matrix_1:\n",
            "[[8 4]\n",
            " [9 1]]\n",
            "matrix_2:\n",
            "[[8 8 1]\n",
            " [7 2 3]]\n",
            "multiplied  matrix:\n",
            "[[92 72 20]\n",
            " [79 74 12]]\n"
          ]
        }
      ]
    },
    {
      "cell_type": "markdown",
      "source": [
        "#8 Створіть матрицю розміром 3x3, заповніть її випадковими цілими числами в діапазоні від 1 до 10 та знайдіть її обернену матрицю."
      ],
      "metadata": {
        "id": "VDm8FRveIk8e"
      }
    },
    {
      "cell_type": "code",
      "source": [
        "matrix = np.random.randint(1, 11, size=(3, 3), dtype=int)\n",
        "matrix_inv = np.linalg.inv(matrix)\n",
        "print(f\"origin matrix:\\n{matrix}\")\n",
        "print(f\"reversed matrix:\\n{matrix_inv}\")"
      ],
      "metadata": {
        "colab": {
          "base_uri": "https://localhost:8080/"
        },
        "id": "_0TvU_yJIqGb",
        "outputId": "4000b67e-b726-42fa-8d49-277b4caa7b00"
      },
      "execution_count": null,
      "outputs": [
        {
          "output_type": "stream",
          "name": "stdout",
          "text": [
            "origin matrix:\n",
            "[[ 6  9  1]\n",
            " [ 4  5  2]\n",
            " [10  4 10]]\n",
            "reversed matrix:\n",
            "[[ 1.10526316 -2.26315789  0.34210526]\n",
            " [-0.52631579  1.31578947 -0.21052632]\n",
            " [-0.89473684  1.73684211 -0.15789474]]\n"
          ]
        }
      ]
    },
    {
      "cell_type": "markdown",
      "source": [
        "#9 Створіть матрицю розміром 4x4, заповніть її випадковими дійсними числами в діапазоні від 0 до 1 та транспонуйте її."
      ],
      "metadata": {
        "id": "ex51XGLSJYUN"
      }
    },
    {
      "cell_type": "code",
      "source": [
        "matrix = np.random.randint(0, 2, size=(4, 4), dtype=int)\n",
        "trans_matrix = matrix.T\n",
        "print(f\"origin matrix:\\n{matrix}\")\n",
        "print(f\"transposed matrix:\\n{trans_matrix}\")"
      ],
      "metadata": {
        "colab": {
          "base_uri": "https://localhost:8080/"
        },
        "id": "IJwZGSJPJiiM",
        "outputId": "6487035a-01dd-455c-df4e-ebf6f9a45a2e"
      },
      "execution_count": null,
      "outputs": [
        {
          "output_type": "stream",
          "name": "stdout",
          "text": [
            "origin matrix:\n",
            "[[1 0 1 0]\n",
            " [0 1 0 0]\n",
            " [1 0 1 0]\n",
            " [1 0 1 1]]\n",
            "transposed matrix:\n",
            "[[1 0 1 1]\n",
            " [0 1 0 0]\n",
            " [1 0 1 1]\n",
            " [0 0 0 1]]\n"
          ]
        }
      ]
    },
    {
      "cell_type": "markdown",
      "source": [
        "#10 Створіть матрицю розміром 3x4 та вектор розміром 4, заповніть їх випадковими цілими числами в діапазоні від 1 до 10 та перемножте матрицю на вектор."
      ],
      "metadata": {
        "id": "MU1atZFTJvBB"
      }
    },
    {
      "cell_type": "code",
      "source": [
        "matrix = np.random.randint(1, 11, size=(3, 4), dtype=int)\n",
        "vector = np.random.randint(1, 11, size=4, dtype=int)\n",
        "matrix_x_vector = np.dot(matrix, vector)\n",
        "print(f\"matrix:\\n{matrix}\")\n",
        "print(f\"vector: {vector}\")\n",
        "print(f\"matrix_x_vector:\\n{matrix_x_vector}\")"
      ],
      "metadata": {
        "id": "yVGPpNGmJ3V6",
        "colab": {
          "base_uri": "https://localhost:8080/"
        },
        "outputId": "792a9745-6db5-4d8b-e80d-76ec96f0dae6"
      },
      "execution_count": 4,
      "outputs": [
        {
          "output_type": "stream",
          "name": "stdout",
          "text": [
            "matrix:\n",
            "[[4 1 3 1]\n",
            " [2 3 4 5]\n",
            " [1 6 6 2]]\n",
            "vector: [1 7 5 1]\n",
            "matrix_x_vector:\n",
            "[27 48 75]\n"
          ]
        }
      ]
    },
    {
      "cell_type": "markdown",
      "source": [
        "#11 Створіть матрицю розміром 2x3 та вектор розміром 3, заповніть їх випадковими дійсними числами в діапазоні від 0 до 1 та перемножте матрицю на вектор."
      ],
      "metadata": {
        "id": "-7717CJ0WVgR"
      }
    },
    {
      "cell_type": "code",
      "source": [
        "matrix = np.random.randint(0, 2, size=(2, 3), dtype=int)\n",
        "vector = np.random.randint(0, 2, size=3, dtype=int)\n",
        "matrix_x_vector = np.dot(matrix, vector)\n",
        "print(f\"matrix:\\n{matrix}\")\n",
        "print(f\"vector: {vector}\")\n",
        "print(f\"matrix_x_vector:\\n{matrix_x_vector}\")"
      ],
      "metadata": {
        "colab": {
          "base_uri": "https://localhost:8080/"
        },
        "id": "Wk2S8nyQWbw1",
        "outputId": "caf607a2-655b-4146-d15b-77471b8e798e"
      },
      "execution_count": 5,
      "outputs": [
        {
          "output_type": "stream",
          "name": "stdout",
          "text": [
            "matrix:\n",
            "[[0 0 0]\n",
            " [0 1 1]]\n",
            "vector: [1 0 1]\n",
            "matrix_x_vector:\n",
            "[0 1]\n"
          ]
        }
      ]
    },
    {
      "cell_type": "markdown",
      "source": [
        "#12 Створіть дві матриці розміром 2x2, заповніть їх випадковими цілими числами в діапазоні від 1 до 10 та виконайте їхнє поелементне множення."
      ],
      "metadata": {
        "id": "qOlN1tHdX_u1"
      }
    },
    {
      "cell_type": "code",
      "source": [
        "matrix_1 = np.random.randint(1, 11, size=(2, 2), dtype=int)\n",
        "matrix_2 = np.random.randint(1, 11, size=(2, 2), dtype=int)\n",
        "mult_mtrx = np.multiply(matrix_1, matrix_2)\n",
        "print(f\"matrix_1:\\n{matrix_1}\")\n",
        "print(f\"matrix_2:\\n{matrix_2}\")\n",
        "print(f\"multiplied  matrix:\\n{mult_mtrx}\")"
      ],
      "metadata": {
        "colab": {
          "base_uri": "https://localhost:8080/"
        },
        "id": "RkBkxsMmYIf8",
        "outputId": "f967be72-9585-4398-f185-f698d4dd439d"
      },
      "execution_count": 9,
      "outputs": [
        {
          "output_type": "stream",
          "name": "stdout",
          "text": [
            "matrix_1:\n",
            "[[ 3 10]\n",
            " [ 1  6]]\n",
            "matrix_2:\n",
            "[[6 9]\n",
            " [1 8]]\n",
            "multiplied  matrix:\n",
            "[[18 90]\n",
            " [ 1 48]]\n"
          ]
        }
      ]
    },
    {
      "cell_type": "markdown",
      "source": [
        "#13 Створіть дві матриці розміром 2x2, заповніть їх випадковими цілими числами в діапазоні від 1 до 10 та знайдіть їх добуток."
      ],
      "metadata": {
        "id": "Svxw-XPIonN-"
      }
    },
    {
      "cell_type": "code",
      "source": [
        "matrix_1 = np.random.randint(1, 11, size=(2, 2), dtype=int)\n",
        "matrix_2 = np.random.randint(1, 11, size=(2, 2), dtype=int)\n",
        "mult_mtrx = np.dot(matrix_1, matrix_2)\n",
        "print(f\"matrix_1:\\n{matrix_1}\")\n",
        "print(f\"matrix_2:\\n{matrix_2}\")\n",
        "print(f\"multiplied  matrix:\\n{mult_mtrx}\")"
      ],
      "metadata": {
        "colab": {
          "base_uri": "https://localhost:8080/"
        },
        "id": "SAKYDUWwortE",
        "outputId": "1b2c3605-40c0-407b-9d55-bfbef7b004d6"
      },
      "execution_count": 10,
      "outputs": [
        {
          "output_type": "stream",
          "name": "stdout",
          "text": [
            "matrix_1:\n",
            "[[3 3]\n",
            " [2 7]]\n",
            "matrix_2:\n",
            "[[4 5]\n",
            " [2 3]]\n",
            "multiplied  matrix:\n",
            "[[18 24]\n",
            " [22 31]]\n"
          ]
        }
      ]
    },
    {
      "cell_type": "markdown",
      "source": [
        "#14 Створіть матрицю розміром 5x5, заповніть її випадковими цілими числами в діапазоні від 1 до 100 та знайдіть суму елементів матриці."
      ],
      "metadata": {
        "id": "4biNNk4ap4_e"
      }
    },
    {
      "cell_type": "code",
      "source": [
        "matrix = np.random.randint(1, 101, size=(5, 5), dtype=int)\n",
        "print(f\"matrix:\\n{matrix}\")\n",
        "print(f\"sum of elements = {matrix.sum()}\")"
      ],
      "metadata": {
        "colab": {
          "base_uri": "https://localhost:8080/"
        },
        "id": "9DYlC77WqCsB",
        "outputId": "ed139790-6ae0-4657-cee0-a17a8a550f21"
      },
      "execution_count": 14,
      "outputs": [
        {
          "output_type": "stream",
          "name": "stdout",
          "text": [
            "matrix:\n",
            "[[ 83  34  24   3  63]\n",
            " [100  46  21  57  10]\n",
            " [ 65  61  55  82  48]\n",
            " [ 62  91  42  20  29]\n",
            " [ 92  78  82  36  77]]\n",
            "sum of elements = 1361\n"
          ]
        }
      ]
    },
    {
      "cell_type": "markdown",
      "source": [
        "#15 Створіть дві матриці розміром 4x4, заповніть їх випадковими цілими числами в діапазоні від 1 до 10 та знайдіть їхню різницю."
      ],
      "metadata": {
        "id": "4iigizhKvN3M"
      }
    },
    {
      "cell_type": "code",
      "source": [
        "matrix_1 = np.random.randint(1, 11, size=(4, 4), dtype=int)\n",
        "matrix_2 = np.random.randint(1, 11, size=(4, 4), dtype=int)\n",
        "difference = matrix_1 - matrix_2\n",
        "print(f\"matrix_1:\\n{matrix_1}\")\n",
        "print(f\"matrix_2:\\n{matrix_2}\")\n",
        "print(f\"difference:\\n{difference}\")"
      ],
      "metadata": {
        "colab": {
          "base_uri": "https://localhost:8080/"
        },
        "id": "Q_Fu9cc5vSeu",
        "outputId": "7da79ee4-5ded-43e7-b388-4511bd11f2de"
      },
      "execution_count": 15,
      "outputs": [
        {
          "output_type": "stream",
          "name": "stdout",
          "text": [
            "matrix_1:\n",
            "[[ 3  4 10  5]\n",
            " [ 6  5  1  4]\n",
            " [ 8  8  2  6]\n",
            " [10  5  9  7]]\n",
            "matrix_2:\n",
            "[[10  2  1  3]\n",
            " [10  4  3  3]\n",
            " [ 5  2  5  8]\n",
            " [ 4  8  2  5]]\n",
            "difference:\n",
            "[[-7  2  9  2]\n",
            " [-4  1 -2  1]\n",
            " [ 3  6 -3 -2]\n",
            " [ 6 -3  7  2]]\n"
          ]
        }
      ]
    },
    {
      "cell_type": "markdown",
      "source": [
        "#16 Створіть матрицю розміром 3x3, заповніть її випадковими дійсними числами в діапазоні від 0 до 1 та знайдіть вектор-стовпчик, що містить суму елементів кожного рядка матриці."
      ],
      "metadata": {
        "id": "_rFZhqmbwh_s"
      }
    },
    {
      "cell_type": "code",
      "source": [
        "matrix = np.random.randint(0, 2, size=(3, 3), dtype=int)\n",
        "row_sums = np.sum(matrix, axis=1)\n",
        "column_vector = row_sums.reshape(-1, 1)\n",
        "print(f\"matrix:\\n{matrix}\")\n",
        "print(f\"sum elements:\\n{column_vector}\")\n"
      ],
      "metadata": {
        "colab": {
          "base_uri": "https://localhost:8080/"
        },
        "id": "qDz4_0g1wuDO",
        "outputId": "bf677082-d96d-4844-dbb2-feda1e7c26d7"
      },
      "execution_count": 29,
      "outputs": [
        {
          "output_type": "stream",
          "name": "stdout",
          "text": [
            "matrix:\n",
            "[[0 1 1]\n",
            " [1 1 0]\n",
            " [0 1 0]]\n",
            "sum elements:\n",
            "[[2]\n",
            " [2]\n",
            " [1]]\n"
          ]
        }
      ]
    },
    {
      "cell_type": "markdown",
      "source": [
        "#17 Створіть матрицю розміром 3x4 з довільними цілими числами і створінь матрицю з квадратами цих чисел."
      ],
      "metadata": {
        "id": "_dOLO0EH3Sox"
      }
    },
    {
      "cell_type": "code",
      "source": [
        "matrix = np.random.randint(1, 11, size=(3, 4), dtype=int)\n",
        "print(f\"matrix:\\n{matrix}\")\n",
        "print(f\"square_matrix\\n{matrix**2}\")"
      ],
      "metadata": {
        "colab": {
          "base_uri": "https://localhost:8080/"
        },
        "id": "UWnJ8BaU3Ycu",
        "outputId": "1b9526ac-9c7d-4b19-81b7-a5b25d1d23e4"
      },
      "execution_count": 30,
      "outputs": [
        {
          "output_type": "stream",
          "name": "stdout",
          "text": [
            "matrix:\n",
            "[[ 1 10  4  3]\n",
            " [ 6  5  8 10]\n",
            " [ 6  3  4  2]]\n",
            "square_matrix\n",
            "[[  1 100  16   9]\n",
            " [ 36  25  64 100]\n",
            " [ 36   9  16   4]]\n"
          ]
        }
      ]
    },
    {
      "cell_type": "markdown",
      "source": [
        "#18 Створіть вектор розміром 4, заповніть його випадковими цілими числами в діапазоні від 1 до 50 та знайдіть вектор з квадратними коренями цих чисел."
      ],
      "metadata": {
        "id": "pyy93kZO6Un-"
      }
    },
    {
      "cell_type": "code",
      "source": [
        "vector = np.random.randint(1, 51, size=4, dtype=int)\n",
        "print(f\"vector:\\n{vector}\")\n",
        "print(f\"vector root:\\n{np.sqrt(vector)}\")"
      ],
      "metadata": {
        "colab": {
          "base_uri": "https://localhost:8080/"
        },
        "id": "Fu2Vrbx36c4M",
        "outputId": "5b8f5696-529e-496a-ba26-b4ab39139cff"
      },
      "execution_count": 44,
      "outputs": [
        {
          "output_type": "stream",
          "name": "stdout",
          "text": [
            "vector:\n",
            "[48 37  8  4]\n",
            "vector root:\n",
            "[6.92820323 6.08276253 2.82842712 2.        ]\n"
          ]
        }
      ]
    }
  ]
}